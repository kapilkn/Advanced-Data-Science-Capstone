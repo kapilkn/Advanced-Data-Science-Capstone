{
  "nbformat": 4,
  "nbformat_minor": 0,
  "metadata": {
    "colab": {
      "name": "Survival of Titanic Passenger Kapil .ipynb",
      "provenance": [],
      "collapsed_sections": [],
      "authorship_tag": "ABX9TyMHBmfGhibsAcTcdw2Z/pYr",
      "include_colab_link": true
    },
    "kernelspec": {
      "name": "python3",
      "display_name": "Python 3"
    }
  },
  "cells": [
    {
      "cell_type": "markdown",
      "metadata": {
        "id": "view-in-github",
        "colab_type": "text"
      },
      "source": [
        "<a href=\"https://colab.research.google.com/github/kapilkn/Advanced-Data-Science-Capstone/blob/master/Survival_of_Titanic_Passenger_Kapil_.ipynb\" target=\"_parent\"><img src=\"https://colab.research.google.com/assets/colab-badge.svg\" alt=\"Open In Colab\"/></a>"
      ]
    },
    {
      "cell_type": "code",
      "metadata": {
        "id": "sW06DLzCsuCY",
        "colab_type": "code",
        "colab": {}
      },
      "source": [
        "import pandas as pd\n",
        "import numpy as np\n",
        "import matplotlib.pyplot as plt\n",
        "from pandas.plotting import scatter_matrix\n",
        "%matplotlib inline\n",
        "import seaborn as sns\n",
        "sns.set(style=\"white\",color_codes=True)\n",
        "sns.set(font_scale=1.5)\n",
        "from sklearn.linear_model import LogisticRegression\n",
        "from sklearn.model_selection import train_test_split\n",
        "\n",
        "from sklearn.metrics import confusion_matrix, classification_report, accuracy_score, precision_score, recall_score, f1_score\n",
        "from sklearn import metrics"
      ],
      "execution_count": 0,
      "outputs": []
    },
    {
      "cell_type": "code",
      "metadata": {
        "id": "3eqwnkestuyc",
        "colab_type": "code",
        "colab": {}
      },
      "source": [
        "df_train =pd.read_csv('train.csv')"
      ],
      "execution_count": 0,
      "outputs": []
    },
    {
      "cell_type": "code",
      "metadata": {
        "id": "TSGF4LRLtwnL",
        "colab_type": "code",
        "outputId": "a757fa8f-a7fd-40ce-bbf3-ae82bc9f4d8f",
        "colab": {
          "base_uri": "https://localhost:8080/",
          "height": 33
        }
      },
      "source": [
        "df_train.shape"
      ],
      "execution_count": 0,
      "outputs": [
        {
          "output_type": "execute_result",
          "data": {
            "text/plain": [
              "(891, 12)"
            ]
          },
          "metadata": {
            "tags": []
          },
          "execution_count": 17
        }
      ]
    },
    {
      "cell_type": "code",
      "metadata": {
        "id": "5R9UIqexyKEZ",
        "colab_type": "code",
        "outputId": "4270578f-8e59-4cfd-cda1-377eb0fce415",
        "colab": {
          "base_uri": "https://localhost:8080/",
          "height": 67
        }
      },
      "source": [
        "df_train.Survived.value_counts()"
      ],
      "execution_count": 0,
      "outputs": [
        {
          "output_type": "execute_result",
          "data": {
            "text/plain": [
              "0    549\n",
              "1    342\n",
              "Name: Survived, dtype: int64"
            ]
          },
          "metadata": {
            "tags": []
          },
          "execution_count": 18
        }
      ]
    },
    {
      "cell_type": "code",
      "metadata": {
        "id": "zPxon4X-yS4R",
        "colab_type": "code",
        "outputId": "49116c8f-8223-4bea-cb99-d990b77ecdf9",
        "colab": {
          "base_uri": "https://localhost:8080/",
          "height": 67
        }
      },
      "source": [
        "df_train.Sex.value_counts()"
      ],
      "execution_count": 0,
      "outputs": [
        {
          "output_type": "execute_result",
          "data": {
            "text/plain": [
              "male      577\n",
              "female    314\n",
              "Name: Sex, dtype: int64"
            ]
          },
          "metadata": {
            "tags": []
          },
          "execution_count": 19
        }
      ]
    },
    {
      "cell_type": "code",
      "metadata": {
        "id": "gfpuTPOJya97",
        "colab_type": "code",
        "outputId": "d09a6859-50a7-4a55-aa73-e0c9095250c0",
        "colab": {
          "base_uri": "https://localhost:8080/",
          "height": 84
        }
      },
      "source": [
        "df_train.Embarked.value_counts()"
      ],
      "execution_count": 0,
      "outputs": [
        {
          "output_type": "execute_result",
          "data": {
            "text/plain": [
              "S    644\n",
              "C    168\n",
              "Q     77\n",
              "Name: Embarked, dtype: int64"
            ]
          },
          "metadata": {
            "tags": []
          },
          "execution_count": 20
        }
      ]
    },
    {
      "cell_type": "code",
      "metadata": {
        "id": "uBP772GTyfsV",
        "colab_type": "code",
        "outputId": "7e297095-ddd9-4486-d133-3e87b4985635",
        "colab": {
          "base_uri": "https://localhost:8080/",
          "height": 392
        }
      },
      "source": [
        "df_train.isnull()"
      ],
      "execution_count": 0,
      "outputs": [
        {
          "output_type": "execute_result",
          "data": {
            "text/html": [
              "<div>\n",
              "<style scoped>\n",
              "    .dataframe tbody tr th:only-of-type {\n",
              "        vertical-align: middle;\n",
              "    }\n",
              "\n",
              "    .dataframe tbody tr th {\n",
              "        vertical-align: top;\n",
              "    }\n",
              "\n",
              "    .dataframe thead th {\n",
              "        text-align: right;\n",
              "    }\n",
              "</style>\n",
              "<table border=\"1\" class=\"dataframe\">\n",
              "  <thead>\n",
              "    <tr style=\"text-align: right;\">\n",
              "      <th></th>\n",
              "      <th>PassengerId</th>\n",
              "      <th>Survived</th>\n",
              "      <th>Pclass</th>\n",
              "      <th>Name</th>\n",
              "      <th>Sex</th>\n",
              "      <th>Age</th>\n",
              "      <th>SibSp</th>\n",
              "      <th>Parch</th>\n",
              "      <th>Ticket</th>\n",
              "      <th>Fare</th>\n",
              "      <th>Cabin</th>\n",
              "      <th>Embarked</th>\n",
              "    </tr>\n",
              "  </thead>\n",
              "  <tbody>\n",
              "    <tr>\n",
              "      <th>0</th>\n",
              "      <td>False</td>\n",
              "      <td>False</td>\n",
              "      <td>False</td>\n",
              "      <td>False</td>\n",
              "      <td>False</td>\n",
              "      <td>False</td>\n",
              "      <td>False</td>\n",
              "      <td>False</td>\n",
              "      <td>False</td>\n",
              "      <td>False</td>\n",
              "      <td>True</td>\n",
              "      <td>False</td>\n",
              "    </tr>\n",
              "    <tr>\n",
              "      <th>1</th>\n",
              "      <td>False</td>\n",
              "      <td>False</td>\n",
              "      <td>False</td>\n",
              "      <td>False</td>\n",
              "      <td>False</td>\n",
              "      <td>False</td>\n",
              "      <td>False</td>\n",
              "      <td>False</td>\n",
              "      <td>False</td>\n",
              "      <td>False</td>\n",
              "      <td>False</td>\n",
              "      <td>False</td>\n",
              "    </tr>\n",
              "    <tr>\n",
              "      <th>2</th>\n",
              "      <td>False</td>\n",
              "      <td>False</td>\n",
              "      <td>False</td>\n",
              "      <td>False</td>\n",
              "      <td>False</td>\n",
              "      <td>False</td>\n",
              "      <td>False</td>\n",
              "      <td>False</td>\n",
              "      <td>False</td>\n",
              "      <td>False</td>\n",
              "      <td>True</td>\n",
              "      <td>False</td>\n",
              "    </tr>\n",
              "    <tr>\n",
              "      <th>3</th>\n",
              "      <td>False</td>\n",
              "      <td>False</td>\n",
              "      <td>False</td>\n",
              "      <td>False</td>\n",
              "      <td>False</td>\n",
              "      <td>False</td>\n",
              "      <td>False</td>\n",
              "      <td>False</td>\n",
              "      <td>False</td>\n",
              "      <td>False</td>\n",
              "      <td>False</td>\n",
              "      <td>False</td>\n",
              "    </tr>\n",
              "    <tr>\n",
              "      <th>4</th>\n",
              "      <td>False</td>\n",
              "      <td>False</td>\n",
              "      <td>False</td>\n",
              "      <td>False</td>\n",
              "      <td>False</td>\n",
              "      <td>False</td>\n",
              "      <td>False</td>\n",
              "      <td>False</td>\n",
              "      <td>False</td>\n",
              "      <td>False</td>\n",
              "      <td>True</td>\n",
              "      <td>False</td>\n",
              "    </tr>\n",
              "    <tr>\n",
              "      <th>...</th>\n",
              "      <td>...</td>\n",
              "      <td>...</td>\n",
              "      <td>...</td>\n",
              "      <td>...</td>\n",
              "      <td>...</td>\n",
              "      <td>...</td>\n",
              "      <td>...</td>\n",
              "      <td>...</td>\n",
              "      <td>...</td>\n",
              "      <td>...</td>\n",
              "      <td>...</td>\n",
              "      <td>...</td>\n",
              "    </tr>\n",
              "    <tr>\n",
              "      <th>886</th>\n",
              "      <td>False</td>\n",
              "      <td>False</td>\n",
              "      <td>False</td>\n",
              "      <td>False</td>\n",
              "      <td>False</td>\n",
              "      <td>False</td>\n",
              "      <td>False</td>\n",
              "      <td>False</td>\n",
              "      <td>False</td>\n",
              "      <td>False</td>\n",
              "      <td>True</td>\n",
              "      <td>False</td>\n",
              "    </tr>\n",
              "    <tr>\n",
              "      <th>887</th>\n",
              "      <td>False</td>\n",
              "      <td>False</td>\n",
              "      <td>False</td>\n",
              "      <td>False</td>\n",
              "      <td>False</td>\n",
              "      <td>False</td>\n",
              "      <td>False</td>\n",
              "      <td>False</td>\n",
              "      <td>False</td>\n",
              "      <td>False</td>\n",
              "      <td>False</td>\n",
              "      <td>False</td>\n",
              "    </tr>\n",
              "    <tr>\n",
              "      <th>888</th>\n",
              "      <td>False</td>\n",
              "      <td>False</td>\n",
              "      <td>False</td>\n",
              "      <td>False</td>\n",
              "      <td>False</td>\n",
              "      <td>True</td>\n",
              "      <td>False</td>\n",
              "      <td>False</td>\n",
              "      <td>False</td>\n",
              "      <td>False</td>\n",
              "      <td>True</td>\n",
              "      <td>False</td>\n",
              "    </tr>\n",
              "    <tr>\n",
              "      <th>889</th>\n",
              "      <td>False</td>\n",
              "      <td>False</td>\n",
              "      <td>False</td>\n",
              "      <td>False</td>\n",
              "      <td>False</td>\n",
              "      <td>False</td>\n",
              "      <td>False</td>\n",
              "      <td>False</td>\n",
              "      <td>False</td>\n",
              "      <td>False</td>\n",
              "      <td>False</td>\n",
              "      <td>False</td>\n",
              "    </tr>\n",
              "    <tr>\n",
              "      <th>890</th>\n",
              "      <td>False</td>\n",
              "      <td>False</td>\n",
              "      <td>False</td>\n",
              "      <td>False</td>\n",
              "      <td>False</td>\n",
              "      <td>False</td>\n",
              "      <td>False</td>\n",
              "      <td>False</td>\n",
              "      <td>False</td>\n",
              "      <td>False</td>\n",
              "      <td>True</td>\n",
              "      <td>False</td>\n",
              "    </tr>\n",
              "  </tbody>\n",
              "</table>\n",
              "<p>891 rows × 12 columns</p>\n",
              "</div>"
            ],
            "text/plain": [
              "     PassengerId  Survived  Pclass   Name  ...  Ticket   Fare  Cabin  Embarked\n",
              "0          False     False   False  False  ...   False  False   True     False\n",
              "1          False     False   False  False  ...   False  False  False     False\n",
              "2          False     False   False  False  ...   False  False   True     False\n",
              "3          False     False   False  False  ...   False  False  False     False\n",
              "4          False     False   False  False  ...   False  False   True     False\n",
              "..           ...       ...     ...    ...  ...     ...    ...    ...       ...\n",
              "886        False     False   False  False  ...   False  False   True     False\n",
              "887        False     False   False  False  ...   False  False  False     False\n",
              "888        False     False   False  False  ...   False  False   True     False\n",
              "889        False     False   False  False  ...   False  False  False     False\n",
              "890        False     False   False  False  ...   False  False   True     False\n",
              "\n",
              "[891 rows x 12 columns]"
            ]
          },
          "metadata": {
            "tags": []
          },
          "execution_count": 21
        }
      ]
    },
    {
      "cell_type": "code",
      "metadata": {
        "id": "qU9IvOShymeO",
        "colab_type": "code",
        "outputId": "0545f6db-09e2-4522-c28e-a55fc616ec84",
        "colab": {
          "base_uri": "https://localhost:8080/",
          "height": 235
        }
      },
      "source": [
        "df_train.isnull().sum()"
      ],
      "execution_count": 0,
      "outputs": [
        {
          "output_type": "execute_result",
          "data": {
            "text/plain": [
              "PassengerId      0\n",
              "Survived         0\n",
              "Pclass           0\n",
              "Name             0\n",
              "Sex              0\n",
              "Age            177\n",
              "SibSp            0\n",
              "Parch            0\n",
              "Ticket           0\n",
              "Fare             0\n",
              "Cabin          687\n",
              "Embarked         2\n",
              "dtype: int64"
            ]
          },
          "metadata": {
            "tags": []
          },
          "execution_count": 22
        }
      ]
    },
    {
      "cell_type": "code",
      "metadata": {
        "id": "WD1ZR0IJytyi",
        "colab_type": "code",
        "outputId": "4ddf6066-1634-4e03-8171-1c0094ac3a2f",
        "colab": {
          "base_uri": "https://localhost:8080/",
          "height": 33
        }
      },
      "source": [
        "df_train.shape"
      ],
      "execution_count": 0,
      "outputs": [
        {
          "output_type": "execute_result",
          "data": {
            "text/plain": [
              "(891, 12)"
            ]
          },
          "metadata": {
            "tags": []
          },
          "execution_count": 23
        }
      ]
    },
    {
      "cell_type": "code",
      "metadata": {
        "id": "zsIM8gPIy1zV",
        "colab_type": "code",
        "outputId": "76865a0b-6ecd-48c7-dd8f-b3535cc889a3",
        "colab": {
          "base_uri": "https://localhost:8080/",
          "height": 190
        }
      },
      "source": [
        "df_train = df_train.drop(['PassengerId','Name','Ticket','Cabin'], axis =1)\n",
        "df_train.head()"
      ],
      "execution_count": 0,
      "outputs": [
        {
          "output_type": "execute_result",
          "data": {
            "text/html": [
              "<div>\n",
              "<style scoped>\n",
              "    .dataframe tbody tr th:only-of-type {\n",
              "        vertical-align: middle;\n",
              "    }\n",
              "\n",
              "    .dataframe tbody tr th {\n",
              "        vertical-align: top;\n",
              "    }\n",
              "\n",
              "    .dataframe thead th {\n",
              "        text-align: right;\n",
              "    }\n",
              "</style>\n",
              "<table border=\"1\" class=\"dataframe\">\n",
              "  <thead>\n",
              "    <tr style=\"text-align: right;\">\n",
              "      <th></th>\n",
              "      <th>Survived</th>\n",
              "      <th>Pclass</th>\n",
              "      <th>Sex</th>\n",
              "      <th>Age</th>\n",
              "      <th>SibSp</th>\n",
              "      <th>Parch</th>\n",
              "      <th>Fare</th>\n",
              "      <th>Embarked</th>\n",
              "    </tr>\n",
              "  </thead>\n",
              "  <tbody>\n",
              "    <tr>\n",
              "      <th>0</th>\n",
              "      <td>0</td>\n",
              "      <td>3</td>\n",
              "      <td>male</td>\n",
              "      <td>22.0</td>\n",
              "      <td>1</td>\n",
              "      <td>0</td>\n",
              "      <td>7.2500</td>\n",
              "      <td>S</td>\n",
              "    </tr>\n",
              "    <tr>\n",
              "      <th>1</th>\n",
              "      <td>1</td>\n",
              "      <td>1</td>\n",
              "      <td>female</td>\n",
              "      <td>38.0</td>\n",
              "      <td>1</td>\n",
              "      <td>0</td>\n",
              "      <td>71.2833</td>\n",
              "      <td>C</td>\n",
              "    </tr>\n",
              "    <tr>\n",
              "      <th>2</th>\n",
              "      <td>1</td>\n",
              "      <td>3</td>\n",
              "      <td>female</td>\n",
              "      <td>26.0</td>\n",
              "      <td>0</td>\n",
              "      <td>0</td>\n",
              "      <td>7.9250</td>\n",
              "      <td>S</td>\n",
              "    </tr>\n",
              "    <tr>\n",
              "      <th>3</th>\n",
              "      <td>1</td>\n",
              "      <td>1</td>\n",
              "      <td>female</td>\n",
              "      <td>35.0</td>\n",
              "      <td>1</td>\n",
              "      <td>0</td>\n",
              "      <td>53.1000</td>\n",
              "      <td>S</td>\n",
              "    </tr>\n",
              "    <tr>\n",
              "      <th>4</th>\n",
              "      <td>0</td>\n",
              "      <td>3</td>\n",
              "      <td>male</td>\n",
              "      <td>35.0</td>\n",
              "      <td>0</td>\n",
              "      <td>0</td>\n",
              "      <td>8.0500</td>\n",
              "      <td>S</td>\n",
              "    </tr>\n",
              "  </tbody>\n",
              "</table>\n",
              "</div>"
            ],
            "text/plain": [
              "   Survived  Pclass     Sex   Age  SibSp  Parch     Fare Embarked\n",
              "0         0       3    male  22.0      1      0   7.2500        S\n",
              "1         1       1  female  38.0      1      0  71.2833        C\n",
              "2         1       3  female  26.0      0      0   7.9250        S\n",
              "3         1       1  female  35.0      1      0  53.1000        S\n",
              "4         0       3    male  35.0      0      0   8.0500        S"
            ]
          },
          "metadata": {
            "tags": []
          },
          "execution_count": 24
        }
      ]
    },
    {
      "cell_type": "code",
      "metadata": {
        "id": "qTG1_Ntv11mK",
        "colab_type": "code",
        "colab": {}
      },
      "source": [
        "def age_approx(cols):\n",
        "  age =cols[0]\n",
        "  Pclass = cols[1]\n",
        "\n",
        "  if pd.isnull(age):\n",
        "    if Pclass ==1:\n",
        "      return 37\n",
        "    elif Pclass ==2:\n",
        "      return 29\n",
        "    else:\n",
        "      return 24\n",
        "  else:\n",
        "    return age"
      ],
      "execution_count": 0,
      "outputs": []
    },
    {
      "cell_type": "code",
      "metadata": {
        "id": "1jlU2MZJ2nSf",
        "colab_type": "code",
        "outputId": "c6cb9f6d-7584-48e9-c760-cc1d10aa6d5f",
        "colab": {
          "base_uri": "https://localhost:8080/",
          "height": 162
        }
      },
      "source": [
        "df_train.groupby(['Pclass']).mean()"
      ],
      "execution_count": 0,
      "outputs": [
        {
          "output_type": "execute_result",
          "data": {
            "text/html": [
              "<div>\n",
              "<style scoped>\n",
              "    .dataframe tbody tr th:only-of-type {\n",
              "        vertical-align: middle;\n",
              "    }\n",
              "\n",
              "    .dataframe tbody tr th {\n",
              "        vertical-align: top;\n",
              "    }\n",
              "\n",
              "    .dataframe thead th {\n",
              "        text-align: right;\n",
              "    }\n",
              "</style>\n",
              "<table border=\"1\" class=\"dataframe\">\n",
              "  <thead>\n",
              "    <tr style=\"text-align: right;\">\n",
              "      <th></th>\n",
              "      <th>Survived</th>\n",
              "      <th>Age</th>\n",
              "      <th>SibSp</th>\n",
              "      <th>Parch</th>\n",
              "      <th>Fare</th>\n",
              "    </tr>\n",
              "    <tr>\n",
              "      <th>Pclass</th>\n",
              "      <th></th>\n",
              "      <th></th>\n",
              "      <th></th>\n",
              "      <th></th>\n",
              "      <th></th>\n",
              "    </tr>\n",
              "  </thead>\n",
              "  <tbody>\n",
              "    <tr>\n",
              "      <th>1</th>\n",
              "      <td>0.629630</td>\n",
              "      <td>37.0</td>\n",
              "      <td>0.416667</td>\n",
              "      <td>0.356481</td>\n",
              "      <td>84.154687</td>\n",
              "    </tr>\n",
              "    <tr>\n",
              "      <th>2</th>\n",
              "      <td>0.472826</td>\n",
              "      <td>29.0</td>\n",
              "      <td>0.402174</td>\n",
              "      <td>0.380435</td>\n",
              "      <td>20.662183</td>\n",
              "    </tr>\n",
              "    <tr>\n",
              "      <th>3</th>\n",
              "      <td>0.242363</td>\n",
              "      <td>NaN</td>\n",
              "      <td>0.615071</td>\n",
              "      <td>0.393075</td>\n",
              "      <td>13.675550</td>\n",
              "    </tr>\n",
              "  </tbody>\n",
              "</table>\n",
              "</div>"
            ],
            "text/plain": [
              "        Survived   Age     SibSp     Parch       Fare\n",
              "Pclass                                               \n",
              "1       0.629630  37.0  0.416667  0.356481  84.154687\n",
              "2       0.472826  29.0  0.402174  0.380435  20.662183\n",
              "3       0.242363   NaN  0.615071  0.393075  13.675550"
            ]
          },
          "metadata": {
            "tags": []
          },
          "execution_count": 33
        }
      ]
    },
    {
      "cell_type": "code",
      "metadata": {
        "id": "GO5VbQIO20Od",
        "colab_type": "code",
        "colab": {}
      },
      "source": [
        "df_train[\"Age\"] = df_train[['Age','Pclass']].apply(age_approx,axis=1)"
      ],
      "execution_count": 0,
      "outputs": []
    },
    {
      "cell_type": "code",
      "metadata": {
        "id": "b0sJZVfx3GSG",
        "colab_type": "code",
        "outputId": "fa391251-061e-40be-a28f-f9ee661856ef",
        "colab": {
          "base_uri": "https://localhost:8080/",
          "height": 168
        }
      },
      "source": [
        "df_train.isnull().sum()"
      ],
      "execution_count": 0,
      "outputs": [
        {
          "output_type": "execute_result",
          "data": {
            "text/plain": [
              "Survived    0\n",
              "Pclass      0\n",
              "Sex         0\n",
              "Age         0\n",
              "SibSp       0\n",
              "Parch       0\n",
              "Fare        0\n",
              "Embarked    2\n",
              "dtype: int64"
            ]
          },
          "metadata": {
            "tags": []
          },
          "execution_count": 35
        }
      ]
    },
    {
      "cell_type": "code",
      "metadata": {
        "id": "4ihAusG83LNf",
        "colab_type": "code",
        "outputId": "10c46549-9b67-4cdf-9449-a14267a73ef3",
        "colab": {
          "base_uri": "https://localhost:8080/",
          "height": 168
        }
      },
      "source": [
        "df_train.dropna(inplace=True)\n",
        "df_train.isnull().sum()"
      ],
      "execution_count": 0,
      "outputs": [
        {
          "output_type": "execute_result",
          "data": {
            "text/plain": [
              "Survived    0\n",
              "Pclass      0\n",
              "Sex         0\n",
              "Age         0\n",
              "SibSp       0\n",
              "Parch       0\n",
              "Fare        0\n",
              "Embarked    0\n",
              "dtype: int64"
            ]
          },
          "metadata": {
            "tags": []
          },
          "execution_count": 36
        }
      ]
    },
    {
      "cell_type": "code",
      "metadata": {
        "id": "WBrsfiFo4nwj",
        "colab_type": "code",
        "outputId": "80d0cac4-f926-448b-d210-318a6763abe5",
        "colab": {
          "base_uri": "https://localhost:8080/",
          "height": 168
        }
      },
      "source": [
        "df_train.dtypes"
      ],
      "execution_count": 0,
      "outputs": [
        {
          "output_type": "execute_result",
          "data": {
            "text/plain": [
              "Survived      int64\n",
              "Pclass        int64\n",
              "Sex          object\n",
              "Age         float64\n",
              "SibSp         int64\n",
              "Parch         int64\n",
              "Fare        float64\n",
              "Embarked     object\n",
              "dtype: object"
            ]
          },
          "metadata": {
            "tags": []
          },
          "execution_count": 37
        }
      ]
    },
    {
      "cell_type": "code",
      "metadata": {
        "id": "Bx0CcH-s4tKB",
        "colab_type": "code",
        "colab": {}
      },
      "source": [
        "df_train_dummies = pd.get_dummies(df_train,columns=['Sex'])"
      ],
      "execution_count": 0,
      "outputs": []
    },
    {
      "cell_type": "code",
      "metadata": {
        "id": "YpthZi_t434r",
        "colab_type": "code",
        "colab": {}
      },
      "source": [
        "df_train_dummies = pd.get_dummies(df_train_dummies,columns=['Embarked'])"
      ],
      "execution_count": 0,
      "outputs": []
    },
    {
      "cell_type": "code",
      "metadata": {
        "id": "6JLpJFL95FB1",
        "colab_type": "code",
        "outputId": "7257ec91-9ea1-4d1e-8f51-ca53e1dbd40a",
        "colab": {
          "base_uri": "https://localhost:8080/",
          "height": 190
        }
      },
      "source": [
        "df_train_dummies.head()"
      ],
      "execution_count": 0,
      "outputs": [
        {
          "output_type": "execute_result",
          "data": {
            "text/html": [
              "<div>\n",
              "<style scoped>\n",
              "    .dataframe tbody tr th:only-of-type {\n",
              "        vertical-align: middle;\n",
              "    }\n",
              "\n",
              "    .dataframe tbody tr th {\n",
              "        vertical-align: top;\n",
              "    }\n",
              "\n",
              "    .dataframe thead th {\n",
              "        text-align: right;\n",
              "    }\n",
              "</style>\n",
              "<table border=\"1\" class=\"dataframe\">\n",
              "  <thead>\n",
              "    <tr style=\"text-align: right;\">\n",
              "      <th></th>\n",
              "      <th>Survived</th>\n",
              "      <th>Pclass</th>\n",
              "      <th>Age</th>\n",
              "      <th>SibSp</th>\n",
              "      <th>Parch</th>\n",
              "      <th>Fare</th>\n",
              "      <th>Sex_female</th>\n",
              "      <th>Sex_male</th>\n",
              "      <th>Embarked_C</th>\n",
              "      <th>Embarked_Q</th>\n",
              "      <th>Embarked_S</th>\n",
              "    </tr>\n",
              "  </thead>\n",
              "  <tbody>\n",
              "    <tr>\n",
              "      <th>0</th>\n",
              "      <td>0</td>\n",
              "      <td>3</td>\n",
              "      <td>24.0</td>\n",
              "      <td>1</td>\n",
              "      <td>0</td>\n",
              "      <td>7.2500</td>\n",
              "      <td>0</td>\n",
              "      <td>1</td>\n",
              "      <td>0</td>\n",
              "      <td>0</td>\n",
              "      <td>1</td>\n",
              "    </tr>\n",
              "    <tr>\n",
              "      <th>1</th>\n",
              "      <td>1</td>\n",
              "      <td>1</td>\n",
              "      <td>37.0</td>\n",
              "      <td>1</td>\n",
              "      <td>0</td>\n",
              "      <td>71.2833</td>\n",
              "      <td>1</td>\n",
              "      <td>0</td>\n",
              "      <td>1</td>\n",
              "      <td>0</td>\n",
              "      <td>0</td>\n",
              "    </tr>\n",
              "    <tr>\n",
              "      <th>2</th>\n",
              "      <td>1</td>\n",
              "      <td>3</td>\n",
              "      <td>24.0</td>\n",
              "      <td>0</td>\n",
              "      <td>0</td>\n",
              "      <td>7.9250</td>\n",
              "      <td>1</td>\n",
              "      <td>0</td>\n",
              "      <td>0</td>\n",
              "      <td>0</td>\n",
              "      <td>1</td>\n",
              "    </tr>\n",
              "    <tr>\n",
              "      <th>3</th>\n",
              "      <td>1</td>\n",
              "      <td>1</td>\n",
              "      <td>37.0</td>\n",
              "      <td>1</td>\n",
              "      <td>0</td>\n",
              "      <td>53.1000</td>\n",
              "      <td>1</td>\n",
              "      <td>0</td>\n",
              "      <td>0</td>\n",
              "      <td>0</td>\n",
              "      <td>1</td>\n",
              "    </tr>\n",
              "    <tr>\n",
              "      <th>4</th>\n",
              "      <td>0</td>\n",
              "      <td>3</td>\n",
              "      <td>24.0</td>\n",
              "      <td>0</td>\n",
              "      <td>0</td>\n",
              "      <td>8.0500</td>\n",
              "      <td>0</td>\n",
              "      <td>1</td>\n",
              "      <td>0</td>\n",
              "      <td>0</td>\n",
              "      <td>1</td>\n",
              "    </tr>\n",
              "  </tbody>\n",
              "</table>\n",
              "</div>"
            ],
            "text/plain": [
              "   Survived  Pclass   Age  SibSp  ...  Sex_male  Embarked_C  Embarked_Q  Embarked_S\n",
              "0         0       3  24.0      1  ...         1           0           0           1\n",
              "1         1       1  37.0      1  ...         0           1           0           0\n",
              "2         1       3  24.0      0  ...         0           0           0           1\n",
              "3         1       1  37.0      1  ...         0           0           0           1\n",
              "4         0       3  24.0      0  ...         1           0           0           1\n",
              "\n",
              "[5 rows x 11 columns]"
            ]
          },
          "metadata": {
            "tags": []
          },
          "execution_count": 40
        }
      ]
    },
    {
      "cell_type": "code",
      "metadata": {
        "id": "KuNi3qfH5IL-",
        "colab_type": "code",
        "outputId": "e35fd1fd-8cd8-4840-8c37-1e2c89cc72f1",
        "colab": {
          "base_uri": "https://localhost:8080/",
          "height": 565
        }
      },
      "source": [
        "plt.figure(figsize=(12,8))\n",
        "sns.heatmap(df_train_dummies.corr())"
      ],
      "execution_count": 0,
      "outputs": [
        {
          "output_type": "execute_result",
          "data": {
            "text/plain": [
              "<matplotlib.axes._subplots.AxesSubplot at 0x7f2380441080>"
            ]
          },
          "metadata": {
            "tags": []
          },
          "execution_count": 41
        },
        {
          "output_type": "display_data",
          "data": {
            "image/png": "[encoded data removed]",
            "text/plain": [
              "<Figure size 864x576 with 2 Axes>"
            ]
          },
          "metadata": {
            "tags": []
          }
        }
      ]
    },
    {
      "cell_type": "code",
      "metadata": {
        "id": "3S_kYIVt5cyb",
        "colab_type": "code",
        "colab": {}
      },
      "source": [
        "use_features = ['Pclass',\t'Age',\t'SibSp',\t'Parch',\t'Sex_female',\t'Sex_male',\t'Embarked_C',\t'Embarked_Q',\t'Embarked_S']\n",
        "X = df_train_dummies[use_features].values\n",
        "y = df_train_dummies['Survived']"
      ],
      "execution_count": 0,
      "outputs": []
    },
    {
      "cell_type": "code",
      "metadata": {
        "id": "_-b93s5p6TxX",
        "colab_type": "code",
        "colab": {}
      },
      "source": [
        "X_train, X_test, y_train, y_test = train_test_split(X,y,test_size=0.3,random_state=1)"
      ],
      "execution_count": 0,
      "outputs": []
    },
    {
      "cell_type": "code",
      "metadata": {
        "id": "vgq75MUk6qP9",
        "colab_type": "code",
        "outputId": "5bbbb0e6-3ae9-4476-917c-ac3dca43963e",
        "colab": {
          "base_uri": "https://localhost:8080/",
          "height": 84
        }
      },
      "source": [
        "print(X_train.shape)\n",
        "print(X_test.shape)\n",
        "print(y_train.shape)\n",
        "print(y_test.shape)"
      ],
      "execution_count": 0,
      "outputs": [
        {
          "output_type": "stream",
          "text": [
            "(622, 9)\n",
            "(267, 9)\n",
            "(622,)\n",
            "(267,)\n"
          ],
          "name": "stdout"
        }
      ]
    },
    {
      "cell_type": "code",
      "metadata": {
        "id": "Na3Slw8I7KqW",
        "colab_type": "code",
        "colab": {}
      },
      "source": [
        "LR = LogisticRegression()"
      ],
      "execution_count": 0,
      "outputs": []
    },
    {
      "cell_type": "code",
      "metadata": {
        "id": "OYZNogzN7mnb",
        "colab_type": "code",
        "outputId": "18f1550a-1171-46b4-dc01-07ee981e893d",
        "colab": {
          "base_uri": "https://localhost:8080/",
          "height": 255
        }
      },
      "source": [
        "LR.fit(X_train,y_train)"
      ],
      "execution_count": 0,
      "outputs": [
        {
          "output_type": "stream",
          "text": [
            "/usr/local/lib/python3.6/dist-packages/sklearn/linear_model/_logistic.py:940: ConvergenceWarning: lbfgs failed to converge (status=1):\n",
            "STOP: TOTAL NO. of ITERATIONS REACHED LIMIT.\n",
            "\n",
            "Increase the number of iterations (max_iter) or scale the data as shown in:\n",
            "    https://scikit-learn.org/stable/modules/preprocessing.html\n",
            "Please also refer to the documentation for alternative solver options:\n",
            "    https://scikit-learn.org/stable/modules/linear_model.html#logistic-regression\n",
            "  extra_warning_msg=_LOGISTIC_SOLVER_CONVERGENCE_MSG)\n"
          ],
          "name": "stderr"
        },
        {
          "output_type": "execute_result",
          "data": {
            "text/plain": [
              "LogisticRegression(C=1.0, class_weight=None, dual=False, fit_intercept=True,\n",
              "                   intercept_scaling=1, l1_ratio=None, max_iter=100,\n",
              "                   multi_class='auto', n_jobs=None, penalty='l2',\n",
              "                   random_state=None, solver='lbfgs', tol=0.0001, verbose=0,\n",
              "                   warm_start=False)"
            ]
          },
          "metadata": {
            "tags": []
          },
          "execution_count": 48
        }
      ]
    },
    {
      "cell_type": "code",
      "metadata": {
        "id": "daWO527E7sUg",
        "colab_type": "code",
        "colab": {}
      },
      "source": [
        "y_pred =LR.predict(X_test)"
      ],
      "execution_count": 0,
      "outputs": []
    },
    {
      "cell_type": "code",
      "metadata": {
        "id": "vgsJspnr74RC",
        "colab_type": "code",
        "outputId": "b2c33911-775f-44a9-95c9-8ceddfb51c6a",
        "colab": {
          "base_uri": "https://localhost:8080/",
          "height": 50
        }
      },
      "source": [
        "metrics.confusion_matrix(y_test,y_pred)"
      ],
      "execution_count": 0,
      "outputs": [
        {
          "output_type": "execute_result",
          "data": {
            "text/plain": [
              "array([[140,  26],\n",
              "       [ 24,  77]])"
            ]
          },
          "metadata": {
            "tags": []
          },
          "execution_count": 51
        }
      ]
    },
    {
      "cell_type": "code",
      "metadata": {
        "id": "jn5tcnF37-7R",
        "colab_type": "code",
        "outputId": "b0c4b9bf-fcb1-4042-a0d3-4372447616e5",
        "colab": {
          "base_uri": "https://localhost:8080/",
          "height": 33
        }
      },
      "source": [
        "len(X_test)"
      ],
      "execution_count": 0,
      "outputs": [
        {
          "output_type": "execute_result",
          "data": {
            "text/plain": [
              "267"
            ]
          },
          "metadata": {
            "tags": []
          },
          "execution_count": 52
        }
      ]
    },
    {
      "cell_type": "code",
      "metadata": {
        "id": "uzelaE8n8Ed0",
        "colab_type": "code",
        "outputId": "168488d0-4dc0-441e-f32f-d9915431d9b1",
        "colab": {
          "base_uri": "https://localhost:8080/",
          "height": 168
        }
      },
      "source": [
        "print(classification_report(y_test,y_pred))"
      ],
      "execution_count": 0,
      "outputs": [
        {
          "output_type": "stream",
          "text": [
            "              precision    recall  f1-score   support\n",
            "\n",
            "           0       0.85      0.84      0.85       166\n",
            "           1       0.75      0.76      0.75       101\n",
            "\n",
            "    accuracy                           0.81       267\n",
            "   macro avg       0.80      0.80      0.80       267\n",
            "weighted avg       0.81      0.81      0.81       267\n",
            "\n"
          ],
          "name": "stdout"
        }
      ]
    },
    {
      "cell_type": "code",
      "metadata": {
        "id": "tSWlqrNd8MIo",
        "colab_type": "code",
        "outputId": "1f19cadf-2456-4415-bc9d-9720910408f6",
        "colab": {
          "base_uri": "https://localhost:8080/",
          "height": 50
        }
      },
      "source": [
        "LR.coef_"
      ],
      "execution_count": 0,
      "outputs": [
        {
          "output_type": "execute_result",
          "data": {
            "text/plain": [
              "array([[-0.55028461,  0.03595133, -0.13924707, -0.01946786,  1.28237101,\n",
              "        -1.11292826,  0.39616348,  0.02323001, -0.24995074]])"
            ]
          },
          "metadata": {
            "tags": []
          },
          "execution_count": 54
        }
      ]
    },
    {
      "cell_type": "code",
      "metadata": {
        "id": "AXHd4TeX8Py5",
        "colab_type": "code",
        "outputId": "aa450da5-686e-421e-a686-a988db62a17e",
        "colab": {
          "base_uri": "https://localhost:8080/",
          "height": 33
        }
      },
      "source": [
        "LR.intercept_"
      ],
      "execution_count": 0,
      "outputs": [
        {
          "output_type": "execute_result",
          "data": {
            "text/plain": [
              "array([0.14526245])"
            ]
          },
          "metadata": {
            "tags": []
          },
          "execution_count": 56
        }
      ]
    },
    {
      "cell_type": "code",
      "metadata": {
        "id": "njU1iOyc8Rmr",
        "colab_type": "code",
        "outputId": "fdb69cb1-915c-4aff-ad4a-099cdb83f6ab",
        "colab": {
          "base_uri": "https://localhost:8080/",
          "height": 67
        }
      },
      "source": [
        "df_train_dummies[use_features].columns"
      ],
      "execution_count": 0,
      "outputs": [
        {
          "output_type": "execute_result",
          "data": {
            "text/plain": [
              "Index(['Pclass', 'Age', 'SibSp', 'Parch', 'Sex_female', 'Sex_male',\n",
              "       'Embarked_C', 'Embarked_Q', 'Embarked_S'],\n",
              "      dtype='object')"
            ]
          },
          "metadata": {
            "tags": []
          },
          "execution_count": 57
        }
      ]
    },
    {
      "cell_type": "code",
      "metadata": {
        "id": "IivfrC5o8bYg",
        "colab_type": "code",
        "outputId": "36d8d6d2-6253-412f-ccdc-6e9452f9cd62",
        "colab": {
          "base_uri": "https://localhost:8080/",
          "height": 309
        }
      },
      "source": [
        "plt.plot(LR.predict_proba(X_test)) # Survive vs non survive"
      ],
      "execution_count": 0,
      "outputs": [
        {
          "output_type": "execute_result",
          "data": {
            "text/plain": [
              "[<matplotlib.lines.Line2D at 0x7f237c360390>,\n",
              " <matplotlib.lines.Line2D at 0x7f237c3604e0>]"
            ]
          },
          "metadata": {
            "tags": []
          },
          "execution_count": 59
        },
        {
          "output_type": "display_data",
          "data": {
            "image/png": "[encoded data removed]",
            "text/plain": [
              "<Figure size 432x288 with 1 Axes>"
            ]
          },
          "metadata": {
            "tags": []
          }
        }
      ]
    },
    {
      "cell_type": "code",
      "metadata": {
        "id": "frZaXCyJ8jzr",
        "colab_type": "code",
        "outputId": "ae98b52a-bf17-433a-b040-29f7267b6822",
        "colab": {
          "base_uri": "https://localhost:8080/",
          "height": 1000
        }
      },
      "source": [
        "LR.predict_proba(X_test)"
      ],
      "execution_count": 0,
      "outputs": [
        {
          "output_type": "execute_result",
          "data": {
            "text/plain": [
              "array([[0.24606657, 0.75393343],\n",
              "       [0.24969603, 0.75030397],\n",
              "       [0.88138782, 0.11861218],\n",
              "       [0.3401016 , 0.6598984 ],\n",
              "       [0.93939221, 0.06060779],\n",
              "       [0.13963196, 0.86036804],\n",
              "       [0.40379897, 0.59620103],\n",
              "       [0.55138377, 0.44861623],\n",
              "       [0.82027905, 0.17972095],\n",
              "       [0.40379897, 0.59620103],\n",
              "       [0.60771134, 0.39228866],\n",
              "       [0.26574736, 0.73425264],\n",
              "       [0.7816994 , 0.2183006 ],\n",
              "       [0.30539443, 0.69460557],\n",
              "       [0.88138782, 0.11861218],\n",
              "       [0.40379897, 0.59620103],\n",
              "       [0.79568237, 0.20431763],\n",
              "       [0.24606657, 0.75393343],\n",
              "       [0.12372732, 0.87627268],\n",
              "       [0.48271561, 0.51728439],\n",
              "       [0.88138782, 0.11861218],\n",
              "       [0.6403651 , 0.3596349 ],\n",
              "       [0.8045289 , 0.1954711 ],\n",
              "       [0.93939221, 0.06060779],\n",
              "       [0.44808474, 0.55191526],\n",
              "       [0.40379897, 0.59620103],\n",
              "       [0.06889994, 0.93110006],\n",
              "       [0.88138782, 0.11861218],\n",
              "       [0.89518989, 0.10481011],\n",
              "       [0.3401016 , 0.6598984 ],\n",
              "       [0.40379897, 0.59620103],\n",
              "       [0.44808474, 0.55191526],\n",
              "       [0.24606657, 0.75393343],\n",
              "       [0.64928204, 0.35071796],\n",
              "       [0.60771134, 0.39228866],\n",
              "       [0.24606657, 0.75393343],\n",
              "       [0.6403651 , 0.3596349 ],\n",
              "       [0.88138782, 0.11861218],\n",
              "       [0.27668061, 0.72331939],\n",
              "       [0.45290395, 0.54709605],\n",
              "       [0.41320662, 0.58679338],\n",
              "       [0.8045289 , 0.1954711 ],\n",
              "       [0.45290395, 0.54709605],\n",
              "       [0.88138782, 0.11861218],\n",
              "       [0.60771134, 0.39228866],\n",
              "       [0.24606657, 0.75393343],\n",
              "       [0.12372732, 0.87627268],\n",
              "       [0.7816994 , 0.2183006 ],\n",
              "       [0.12372732, 0.87627268],\n",
              "       [0.88138782, 0.11861218],\n",
              "       [0.88138782, 0.11861218],\n",
              "       [0.44808474, 0.55191526],\n",
              "       [0.9096126 , 0.0903874 ],\n",
              "       [0.12372732, 0.87627268],\n",
              "       [0.7816994 , 0.2183006 ],\n",
              "       [0.12585351, 0.87414649],\n",
              "       [0.7816994 , 0.2183006 ],\n",
              "       [0.90397776, 0.09602224],\n",
              "       [0.7816994 , 0.2183006 ],\n",
              "       [0.92003683, 0.07996317],\n",
              "       [0.60771134, 0.39228866],\n",
              "       [0.88138782, 0.11861218],\n",
              "       [0.60771134, 0.39228866],\n",
              "       [0.88138782, 0.11861218],\n",
              "       [0.44808474, 0.55191526],\n",
              "       [0.27668061, 0.72331939],\n",
              "       [0.88138782, 0.11861218],\n",
              "       [0.88138782, 0.11861218],\n",
              "       [0.81057951, 0.18942049],\n",
              "       [0.12585351, 0.87414649],\n",
              "       [0.65809594, 0.34190406],\n",
              "       [0.12585351, 0.87414649],\n",
              "       [0.50701965, 0.49298035],\n",
              "       [0.88138782, 0.11861218],\n",
              "       [0.24606657, 0.75393343],\n",
              "       [0.13963196, 0.86036804],\n",
              "       [0.84972653, 0.15027347],\n",
              "       [0.89518989, 0.10481011],\n",
              "       [0.82027905, 0.17972095],\n",
              "       [0.7816994 , 0.2183006 ],\n",
              "       [0.84972653, 0.15027347],\n",
              "       [0.88138782, 0.11861218],\n",
              "       [0.06889994, 0.93110006],\n",
              "       [0.09226551, 0.90773449],\n",
              "       [0.7816994 , 0.2183006 ],\n",
              "       [0.60771134, 0.39228866],\n",
              "       [0.4050788 , 0.5949212 ],\n",
              "       [0.45290395, 0.54709605],\n",
              "       [0.88138782, 0.11861218],\n",
              "       [0.40379897, 0.59620103],\n",
              "       [0.88138782, 0.11861218],\n",
              "       [0.3401016 , 0.6598984 ],\n",
              "       [0.89518989, 0.10481011],\n",
              "       [0.79568237, 0.20431763],\n",
              "       [0.26196604, 0.73803396],\n",
              "       [0.8045289 , 0.1954711 ],\n",
              "       [0.40379897, 0.59620103],\n",
              "       [0.30539443, 0.69460557],\n",
              "       [0.26196604, 0.73803396],\n",
              "       [0.24606657, 0.75393343],\n",
              "       [0.88138782, 0.11861218],\n",
              "       [0.40849441, 0.59150559],\n",
              "       [0.65237224, 0.34762776],\n",
              "       [0.88138782, 0.11861218],\n",
              "       [0.88138782, 0.11861218],\n",
              "       [0.92970029, 0.07029971],\n",
              "       [0.06889994, 0.93110006],\n",
              "       [0.88138782, 0.11861218],\n",
              "       [0.79568237, 0.20431763],\n",
              "       [0.7816994 , 0.2183006 ],\n",
              "       [0.6403651 , 0.3596349 ],\n",
              "       [0.7816994 , 0.2183006 ],\n",
              "       [0.79568237, 0.20431763],\n",
              "       [0.26196604, 0.73803396],\n",
              "       [0.27668061, 0.72331939],\n",
              "       [0.07015939, 0.92984061],\n",
              "       [0.93096207, 0.06903793],\n",
              "       [0.40379897, 0.59620103],\n",
              "       [0.06889994, 0.93110006],\n",
              "       [0.7816994 , 0.2183006 ],\n",
              "       [0.88138782, 0.11861218],\n",
              "       [0.32348257, 0.67651743],\n",
              "       [0.3401016 , 0.6598984 ],\n",
              "       [0.60771134, 0.39228866],\n",
              "       [0.14198718, 0.85801282],\n",
              "       [0.88138782, 0.11861218],\n",
              "       [0.61234259, 0.38765741],\n",
              "       [0.93939221, 0.06060779],\n",
              "       [0.88138782, 0.11861218],\n",
              "       [0.51188484, 0.48811516],\n",
              "       [0.43772168, 0.56227832],\n",
              "       [0.65237224, 0.34762776],\n",
              "       [0.90054449, 0.09945551],\n",
              "       [0.60771134, 0.39228866],\n",
              "       [0.40379897, 0.59620103],\n",
              "       [0.13963196, 0.86036804],\n",
              "       [0.88138782, 0.11861218],\n",
              "       [0.88138782, 0.11861218],\n",
              "       [0.88138782, 0.11861218],\n",
              "       [0.88138782, 0.11861218],\n",
              "       [0.7816994 , 0.2183006 ],\n",
              "       [0.27280153, 0.72719847],\n",
              "       [0.88138782, 0.11861218],\n",
              "       [0.43772168, 0.56227832],\n",
              "       [0.60771134, 0.39228866],\n",
              "       [0.68324613, 0.31675387],\n",
              "       [0.32348257, 0.67651743],\n",
              "       [0.07015939, 0.92984061],\n",
              "       [0.12372732, 0.87627268],\n",
              "       [0.86888918, 0.13111082],\n",
              "       [0.9096126 , 0.0903874 ],\n",
              "       [0.88138782, 0.11861218],\n",
              "       [0.1643009 , 0.8356991 ],\n",
              "       [0.88138782, 0.11861218],\n",
              "       [0.44808474, 0.55191526],\n",
              "       [0.40379897, 0.59620103],\n",
              "       [0.60771134, 0.39228866],\n",
              "       [0.51674778, 0.48325222],\n",
              "       [0.88138782, 0.11861218],\n",
              "       [0.88138782, 0.11861218],\n",
              "       [0.60771134, 0.39228866],\n",
              "       [0.7816994 , 0.2183006 ],\n",
              "       [0.51188484, 0.48811516],\n",
              "       [0.86665542, 0.13334458],\n",
              "       [0.7816994 , 0.2183006 ],\n",
              "       [0.88138782, 0.11861218],\n",
              "       [0.07838721, 0.92161279],\n",
              "       [0.06889994, 0.93110006],\n",
              "       [0.82550387, 0.17449613],\n",
              "       [0.28059357, 0.71940643],\n",
              "       [0.88138782, 0.11861218],\n",
              "       [0.93096207, 0.06903793],\n",
              "       [0.84972653, 0.15027347],\n",
              "       [0.88138782, 0.11861218],\n",
              "       [0.79568237, 0.20431763],\n",
              "       [0.44808474, 0.55191526],\n",
              "       [0.88138782, 0.11861218],\n",
              "       [0.7816994 , 0.2183006 ],\n",
              "       [0.88138782, 0.11861218],\n",
              "       [0.88138782, 0.11861218],\n",
              "       [0.84972653, 0.15027347],\n",
              "       [0.88138782, 0.11861218],\n",
              "       [0.45773201, 0.54226799],\n",
              "       [0.92970029, 0.07029971],\n",
              "       [0.3401016 , 0.6598984 ],\n",
              "       [0.68205926, 0.31794074],\n",
              "       [0.37201212, 0.62798788],\n",
              "       [0.60771134, 0.39228866],\n",
              "       [0.13963196, 0.86036804],\n",
              "       [0.88138782, 0.11861218],\n",
              "       [0.6403651 , 0.3596349 ],\n",
              "       [0.6403651 , 0.3596349 ],\n",
              "       [0.88138782, 0.11861218],\n",
              "       [0.8045289 , 0.1954711 ],\n",
              "       [0.89700246, 0.10299754],\n",
              "       [0.60771134, 0.39228866],\n",
              "       [0.9214574 , 0.0785426 ],\n",
              "       [0.15721427, 0.84278573],\n",
              "       [0.60771134, 0.39228866],\n",
              "       [0.1280109 , 0.8719891 ],\n",
              "       [0.60897731, 0.39102269],\n",
              "       [0.24606657, 0.75393343],\n",
              "       [0.88340799, 0.11659201],\n",
              "       [0.65237224, 0.34762776],\n",
              "       [0.07838721, 0.92161279],\n",
              "       [0.88138782, 0.11861218],\n",
              "       [0.88138782, 0.11861218],\n",
              "       [0.13963196, 0.86036804],\n",
              "       [0.79568237, 0.20431763],\n",
              "       [0.12372732, 0.87627268],\n",
              "       [0.84972653, 0.15027347],\n",
              "       [0.7816994 , 0.2183006 ],\n",
              "       [0.79568237, 0.20431763],\n",
              "       [0.79568237, 0.20431763],\n",
              "       [0.48271561, 0.51728439],\n",
              "       [0.14198718, 0.85801282],\n",
              "       [0.7816994 , 0.2183006 ],\n",
              "       [0.29378738, 0.70621262],\n",
              "       [0.88138782, 0.11861218],\n",
              "       [0.6403651 , 0.3596349 ],\n",
              "       [0.86665542, 0.13334458],\n",
              "       [0.48195013, 0.51804987],\n",
              "       [0.65237224, 0.34762776],\n",
              "       [0.24606657, 0.75393343],\n",
              "       [0.27280153, 0.72719847],\n",
              "       [0.88138782, 0.11861218],\n",
              "       [0.80757232, 0.19242768],\n",
              "       [0.84972653, 0.15027347],\n",
              "       [0.79568237, 0.20431763],\n",
              "       [0.78500328, 0.21499672],\n",
              "       [0.37201212, 0.62798788],\n",
              "       [0.28976454, 0.71023546],\n",
              "       [0.44732667, 0.55267333],\n",
              "       [0.84972653, 0.15027347],\n",
              "       [0.88138782, 0.11861218],\n",
              "       [0.89518989, 0.10481011],\n",
              "       [0.88138782, 0.11861218],\n",
              "       [0.82829042, 0.17170958],\n",
              "       [0.66114901, 0.33885099],\n",
              "       [0.88138782, 0.11861218],\n",
              "       [0.24606657, 0.75393343],\n",
              "       [0.84972653, 0.15027347],\n",
              "       [0.88138782, 0.11861218],\n",
              "       [0.68324613, 0.31675387],\n",
              "       [0.4425188 , 0.5574812 ],\n",
              "       [0.1099227 , 0.8900773 ],\n",
              "       [0.26574736, 0.73425264],\n",
              "       [0.67176884, 0.32823116],\n",
              "       [0.60771134, 0.39228866],\n",
              "       [0.89518989, 0.10481011],\n",
              "       [0.12585351, 0.87414649],\n",
              "       [0.3401016 , 0.6598984 ],\n",
              "       [0.40379897, 0.59620103],\n",
              "       [0.88340799, 0.11659201],\n",
              "       [0.12372732, 0.87627268],\n",
              "       [0.28976454, 0.71023546],\n",
              "       [0.88138782, 0.11861218],\n",
              "       [0.88138782, 0.11861218],\n",
              "       [0.07144009, 0.92855991],\n",
              "       [0.79568237, 0.20431763],\n",
              "       [0.24606657, 0.75393343],\n",
              "       [0.84972653, 0.15027347],\n",
              "       [0.64483614, 0.35516386],\n",
              "       [0.88138782, 0.11861218],\n",
              "       [0.28976454, 0.71023546],\n",
              "       [0.84972653, 0.15027347],\n",
              "       [0.89878722, 0.10121278]])"
            ]
          },
          "metadata": {
            "tags": []
          },
          "execution_count": 60
        }
      ]
    },
    {
      "cell_type": "code",
      "metadata": {
        "id": "FHxR6srW9EuP",
        "colab_type": "code",
        "colab": {}
      },
      "source": [
        ""
      ],
      "execution_count": 0,
      "outputs": []
    }
  ]
}